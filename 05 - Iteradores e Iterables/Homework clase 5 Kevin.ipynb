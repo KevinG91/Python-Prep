{
 "cells": [
  {
   "cell_type": "code",
   "execution_count": 1,
   "metadata": {},
   "outputs": [
    {
     "data": {
      "text/plain": [
       "[-15, -14, -13, -12, -11, -10, -9, -8, -7, -6, -5, -4, -3, -2, -1]"
      ]
     },
     "execution_count": 1,
     "metadata": {},
     "output_type": "execute_result"
    }
   ],
   "source": [
    "lista1 = []\n",
    "lc = -15\n",
    "while lc < 0:\n",
    "    lista1.append(lc)\n",
    "    lc += 1\n",
    "lista1\n",
    "#punto 1"
   ]
  },
  {
   "cell_type": "code",
   "execution_count": 4,
   "metadata": {},
   "outputs": [
    {
     "name": "stdout",
     "output_type": "stream",
     "text": [
      "-14\n",
      "-12\n",
      "-10\n",
      "-8\n",
      "-6\n",
      "-4\n",
      "-2\n"
     ]
    }
   ],
   "source": [
    "i = 0\n",
    "while i < len(lista1):\n",
    "    if (lista1[i] % 2) == 0:\n",
    "        print(lista1[i])\n",
    "    i += 1\n",
    "#punto 2\n"
   ]
  },
  {
   "cell_type": "code",
   "execution_count": 6,
   "metadata": {},
   "outputs": [
    {
     "name": "stdout",
     "output_type": "stream",
     "text": [
      "-14\n",
      "-12\n",
      "-10\n",
      "-8\n",
      "-6\n",
      "-4\n",
      "-2\n"
     ]
    }
   ],
   "source": [
    "for i in lista1:\n",
    "    if (i % 2) == 0:\n",
    "        print(i)\n",
    "#punto 3"
   ]
  },
  {
   "cell_type": "code",
   "execution_count": 8,
   "metadata": {},
   "outputs": [
    {
     "name": "stdout",
     "output_type": "stream",
     "text": [
      "-15\n",
      "-14\n",
      "-13\n"
     ]
    }
   ],
   "source": [
    "for i in range(3):\n",
    "    print(lista1[i])\n",
    "#punto 4"
   ]
  },
  {
   "cell_type": "code",
   "execution_count": 9,
   "metadata": {},
   "outputs": [
    {
     "name": "stdout",
     "output_type": "stream",
     "text": [
      "0 -15\n",
      "1 -14\n",
      "2 -13\n",
      "3 -12\n",
      "4 -11\n",
      "5 -10\n",
      "6 -9\n",
      "7 -8\n",
      "8 -7\n",
      "9 -6\n",
      "10 -5\n",
      "11 -4\n",
      "12 -3\n",
      "13 -2\n",
      "14 -1\n"
     ]
    }
   ],
   "source": [
    "for place, value in enumerate(lista1):\n",
    "    print(place, value)\n",
    "#punto 5"
   ]
  },
  {
   "cell_type": "code",
   "execution_count": 15,
   "metadata": {},
   "outputs": [
    {
     "data": {
      "text/plain": [
       "[1, 2, 3, 4, 5, 6, 7, 8, 9, 10, 11, 12, 13, 14, 15, 16, 17, 18, 19, 20]"
      ]
     },
     "execution_count": 15,
     "metadata": {},
     "output_type": "execute_result"
    }
   ],
   "source": [
    "lista2 = [1,2,5,7,8,10,13,14,15,17,20]\n",
    "num = 1\n",
    "while num <= 20:\n",
    "    if (not(num in lista2)):\n",
    "        lista2.insert(num-1, num)\n",
    "    num += 1\n",
    "lista2\n",
    "#punto 6"
   ]
  },
  {
   "cell_type": "code",
   "execution_count": 21,
   "metadata": {},
   "outputs": [
    {
     "data": {
      "text/plain": [
       "[0,\n",
       " 1,\n",
       " 1,\n",
       " 2,\n",
       " 3,\n",
       " 5,\n",
       " 8,\n",
       " 13,\n",
       " 21,\n",
       " 34,\n",
       " 55,\n",
       " 89,\n",
       " 144,\n",
       " 233,\n",
       " 377,\n",
       " 610,\n",
       " 987,\n",
       " 1597,\n",
       " 2584,\n",
       " 4181,\n",
       " 6765,\n",
       " 10946,\n",
       " 17711,\n",
       " 28657,\n",
       " 46368,\n",
       " 75025,\n",
       " 121393,\n",
       " 196418,\n",
       " 317811,\n",
       " 514229]"
      ]
     },
     "execution_count": 21,
     "metadata": {},
     "output_type": "execute_result"
    }
   ],
   "source": [
    "lista3 = [0,1]\n",
    "valorfib = 0\n",
    "for i in range(2,30):\n",
    "    valorfib = (lista3[i-1] + lista3[i-2])\n",
    "    lista3.append(valorfib)\n",
    "lista3\n",
    "#punto 7"
   ]
  },
  {
   "cell_type": "code",
   "execution_count": 30,
   "metadata": {},
   "outputs": [
    {
     "data": {
      "text/plain": [
       "1346268"
      ]
     },
     "execution_count": 30,
     "metadata": {},
     "output_type": "execute_result"
    }
   ],
   "source": [
    "sum(lista3)\n",
    "#punto 8"
   ]
  },
  {
   "cell_type": "code",
   "execution_count": 35,
   "metadata": {},
   "outputs": [
    {
     "name": "stdout",
     "output_type": "stream",
     "text": [
      "1.618033988957902\n",
      "1.6180339886704431\n",
      "1.6180339887802426\n",
      "1.618033988738303\n",
      "1.6180339887543225\n"
     ]
    }
   ],
   "source": [
    "n = len(lista3)-5\n",
    "for i in range(n, len(lista3)):\n",
    "    print(lista3[i] / lista3[i-1])\n",
    "    #punto 9\n"
   ]
  },
  {
   "cell_type": "code",
   "execution_count": 36,
   "metadata": {},
   "outputs": [
    {
     "name": "stdout",
     "output_type": "stream",
     "text": [
      "7 n\n",
      "21 n\n",
      "39 n\n",
      "60 n\n",
      "67 n\n"
     ]
    }
   ],
   "source": [
    "cadena = 'Hola Mundo. Esto es una practica del lenguaje de programación Python'\n",
    "for pos,let in enumerate(cadena):\n",
    "    if let == 'n':\n",
    "        print(pos,let)\n",
    "#punto 10"
   ]
  },
  {
   "cell_type": "code",
   "execution_count": 37,
   "metadata": {},
   "outputs": [
    {
     "name": "stdout",
     "output_type": "stream",
     "text": [
      "enteros\n",
      "operadores\n"
     ]
    }
   ],
   "source": [
    "diccionario = {'enteros':[1,2,3,4,5,6,7,8,9], 'operadores':['+','-','*','/']}\n",
    "for i in diccionario:\n",
    "    print(i)\n",
    "    #punto 11"
   ]
  },
  {
   "cell_type": "code",
   "execution_count": 40,
   "metadata": {},
   "outputs": [
    {
     "name": "stdout",
     "output_type": "stream",
     "text": [
      "['H', 'o', 'l', 'a', ' ', 'M', 'u', 'n', 'd', 'o', '.', ' ', 'E', 's', 't', 'o', ' ', 'e', 's', ' ', 'u', 'n', 'a', ' ', 'p', 'r', 'a', 'c', 't', 'i', 'c', 'a', ' ', 'd', 'e', 'l', ' ', 'l', 'e', 'n', 'g', 'u', 'a', 'j', 'e', ' ', 'd', 'e', ' ', 'p', 'r', 'o', 'g', 'r', 'a', 'm', 'a', 'c', 'i', 'ó', 'n', ' ', 'P', 'y', 't', 'h', 'o', 'n']\n"
     ]
    }
   ],
   "source": [
    "listacadena = []\n",
    "for i in cadena:\n",
    "    listacadena.append(i)\n",
    "print(listacadena)\n",
    "#punto 12"
   ]
  },
  {
   "cell_type": "code",
   "execution_count": 42,
   "metadata": {},
   "outputs": [
    {
     "data": {
      "text/plain": [
       "[('H', 'H'),\n",
       " ('o', 'o'),\n",
       " ('l', 'l'),\n",
       " ('a', 'a'),\n",
       " (' ', ' '),\n",
       " ('M', 'M'),\n",
       " ('u', 'u'),\n",
       " ('n', 'n'),\n",
       " ('d', 'd'),\n",
       " ('o', 'o'),\n",
       " ('.', '.'),\n",
       " (' ', ' '),\n",
       " ('E', 'E'),\n",
       " ('s', 's'),\n",
       " ('t', 't'),\n",
       " ('o', 'o'),\n",
       " (' ', ' '),\n",
       " ('e', 'e'),\n",
       " ('s', 's'),\n",
       " (' ', ' '),\n",
       " ('u', 'u'),\n",
       " ('n', 'n'),\n",
       " ('a', 'a'),\n",
       " (' ', ' '),\n",
       " ('p', 'p'),\n",
       " ('r', 'r'),\n",
       " ('a', 'a'),\n",
       " ('c', 'c'),\n",
       " ('t', 't'),\n",
       " ('i', 'i'),\n",
       " ('c', 'c'),\n",
       " ('a', 'a'),\n",
       " (' ', ' '),\n",
       " ('d', 'd'),\n",
       " ('e', 'e'),\n",
       " ('l', 'l'),\n",
       " (' ', ' '),\n",
       " ('l', 'l'),\n",
       " ('e', 'e'),\n",
       " ('n', 'n'),\n",
       " ('g', 'g'),\n",
       " ('u', 'u'),\n",
       " ('a', 'a'),\n",
       " ('j', 'j'),\n",
       " ('e', 'e'),\n",
       " (' ', ' '),\n",
       " ('d', 'd'),\n",
       " ('e', 'e'),\n",
       " (' ', ' '),\n",
       " ('p', 'p'),\n",
       " ('r', 'r'),\n",
       " ('o', 'o'),\n",
       " ('g', 'g'),\n",
       " ('r', 'r'),\n",
       " ('a', 'a'),\n",
       " ('m', 'm'),\n",
       " ('a', 'a'),\n",
       " ('c', 'c'),\n",
       " ('i', 'i'),\n",
       " ('ó', 'ó'),\n",
       " ('n', 'n'),\n",
       " (' ', ' '),\n",
       " ('P', 'P'),\n",
       " ('y', 'y'),\n",
       " ('t', 't'),\n",
       " ('h', 'h'),\n",
       " ('o', 'o'),\n",
       " ('n', 'n')]"
      ]
     },
     "execution_count": 42,
     "metadata": {},
     "output_type": "execute_result"
    }
   ],
   "source": [
    "listacadena1 = listacadena\n",
    "zipcadenas = zip(listacadena, listacadena1)\n",
    "list(zipcadenas)\n",
    "#punto 13"
   ]
  },
  {
   "cell_type": "code",
   "execution_count": 46,
   "metadata": {},
   "outputs": [
    {
     "name": "stdout",
     "output_type": "stream",
     "text": [
      "[21, 35, 42, 56, 63, 84, 91]\n"
     ]
    }
   ],
   "source": [
    "lis = [18,21,29,32,35,42,56,60,63,71,84,90,91,100]\n",
    "lisnueva = []\n",
    "for pos, n in enumerate(lis):\n",
    "    if (lis[pos] % 7) == 0:\n",
    "        lisnueva.append(n)\n",
    "print(lisnueva)\n",
    "#punto 14\n",
    "\n",
    "#lis = [18,21,29,32,35,42,56,60,63,71,84,90,91,100]\n",
    "#lis2 = [i for i in lis if i % 7 == 0]\n",
    "#print(lis2)\n",
    "\n",
    "#for i in lis:\n",
    "#    if i % 7 == 0:\n",
    "#        lisnueva.append(i)"
   ]
  },
  {
   "cell_type": "code",
   "execution_count": 71,
   "metadata": {},
   "outputs": [
    {
     "data": {
      "text/plain": [
       "12"
      ]
     },
     "execution_count": 71,
     "metadata": {},
     "output_type": "execute_result"
    }
   ],
   "source": [
    "lis1 = [[1,2,3,4],'rojo','verde',[True,False,False],['uno','dos','tres']]\n",
    "cantele = 0\n",
    "x = 0\n",
    "while x < len(lis1):\n",
    "    if type(lis1[x]) == list:\n",
    "        cantele += len(lis1[x])\n",
    "    else:\n",
    "        cantele += 1\n",
    "    x += 1\n",
    "cantele\n",
    "#punto 15"
   ]
  },
  {
   "cell_type": "code",
   "execution_count": 74,
   "metadata": {},
   "outputs": [
    {
     "name": "stdout",
     "output_type": "stream",
     "text": [
      "[[1, 2, 3, 4], ['rojo'], ['verde'], [True, False, False], ['uno', 'dos', 'tres']]\n"
     ]
    }
   ],
   "source": [
    "#x = 0\n",
    "#while x < len(lis1):\n",
    "#    if type(lis1[x]) != list:\n",
    "#        lis1[x] = list(lis1[x])\n",
    "#    x += 1\n",
    "#print(lis1)\n",
    "#punto 16\n",
    "lis1 = [[1,2,3,4],'rojo','verde',[True,False,False],['uno','dos','tres']]\n",
    "x = 0\n",
    "while x < len(lis1):\n",
    "    if type(lis1[x]) != list:\n",
    "        lis1[x] = [lis1[x]]\n",
    "    x+=1\n",
    "print(lis1)"
   ]
  }
 ],
 "metadata": {
  "interpreter": {
   "hash": "7f316ce05a0c4170ba4484e3efd14dee3226178e34dfd81e786ec8a894f84480"
  },
  "kernelspec": {
   "display_name": "Python 3.10.4 64-bit",
   "language": "python",
   "name": "python3"
  },
  "language_info": {
   "codemirror_mode": {
    "name": "ipython",
    "version": 3
   },
   "file_extension": ".py",
   "mimetype": "text/x-python",
   "name": "python",
   "nbconvert_exporter": "python",
   "pygments_lexer": "ipython3",
   "version": "3.10.4"
  },
  "orig_nbformat": 4
 },
 "nbformat": 4,
 "nbformat_minor": 2
}
