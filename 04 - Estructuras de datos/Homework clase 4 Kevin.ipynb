{
 "cells": [
  {
   "cell_type": "code",
   "execution_count": 49,
   "metadata": {},
   "outputs": [
    {
     "name": "stdout",
     "output_type": "stream",
     "text": [
      "['New York', 'Tokyo', 'Buenos Aires', 'Bangkok', 'Los Angeles', 'Seoul']\n"
     ]
    }
   ],
   "source": [
    "ListaCiudades = ['New York','Tokyo','Buenos Aires','Bangkok','Los Angeles','Seoul']\n",
    "print(ListaCiudades)\n",
    "#punto 1"
   ]
  },
  {
   "cell_type": "code",
   "execution_count": 50,
   "metadata": {},
   "outputs": [
    {
     "name": "stdout",
     "output_type": "stream",
     "text": [
      "Tokyo\n"
     ]
    }
   ],
   "source": [
    "print(ListaCiudades[1])\n",
    "#punto 2"
   ]
  },
  {
   "cell_type": "code",
   "execution_count": 51,
   "metadata": {},
   "outputs": [
    {
     "name": "stdout",
     "output_type": "stream",
     "text": [
      "['Tokyo', 'Buenos Aires', 'Bangkok']\n"
     ]
    }
   ],
   "source": [
    "print(ListaCiudades[1:4])\n",
    "#punto 3"
   ]
  },
  {
   "cell_type": "code",
   "execution_count": 52,
   "metadata": {},
   "outputs": [
    {
     "data": {
      "text/plain": [
       "list"
      ]
     },
     "execution_count": 52,
     "metadata": {},
     "output_type": "execute_result"
    }
   ],
   "source": [
    "type(ListaCiudades)\n",
    "#punto 4"
   ]
  },
  {
   "cell_type": "code",
   "execution_count": 53,
   "metadata": {},
   "outputs": [
    {
     "name": "stdout",
     "output_type": "stream",
     "text": [
      "['Buenos Aires', 'Bangkok', 'Los Angeles', 'Seoul']\n"
     ]
    }
   ],
   "source": [
    "print(ListaCiudades[2:])\n",
    "#punto 5"
   ]
  },
  {
   "cell_type": "code",
   "execution_count": 54,
   "metadata": {},
   "outputs": [
    {
     "name": "stdout",
     "output_type": "stream",
     "text": [
      "['New York', 'Tokyo', 'Buenos Aires', 'Bangkok']\n"
     ]
    }
   ],
   "source": [
    "print(ListaCiudades[:4])\n",
    "#punto 6"
   ]
  },
  {
   "cell_type": "code",
   "execution_count": 55,
   "metadata": {},
   "outputs": [
    {
     "ename": "NameError",
     "evalue": "name 'ListaCiudadesVacia' is not defined",
     "output_type": "error",
     "traceback": [
      "\u001b[1;31m---------------------------------------------------------------------------\u001b[0m",
      "\u001b[1;31mNameError\u001b[0m                                 Traceback (most recent call last)",
      "\u001b[1;32mc:\\Users\\Kevin\\Desktop\\Henry\\Python-Prep\\04 - Estructuras de datos\\Homework clase 4 Kevin.ipynb Cell 7'\u001b[0m in \u001b[0;36m<cell line: 1>\u001b[1;34m()\u001b[0m\n\u001b[1;32m----> <a href='vscode-notebook-cell:/c%3A/Users/Kevin/Desktop/Henry/Python-Prep/04%20-%20Estructuras%20de%20datos/Homework%20clase%204%20Kevin.ipynb#ch0000006?line=0'>1</a>\u001b[0m ListaCiudadesVacia\u001b[39m.\u001b[39mappend(\u001b[39m'\u001b[39m\u001b[39mMexico City\u001b[39m\u001b[39m'\u001b[39m)\n\u001b[0;32m      <a href='vscode-notebook-cell:/c%3A/Users/Kevin/Desktop/Henry/Python-Prep/04%20-%20Estructuras%20de%20datos/Homework%20clase%204%20Kevin.ipynb#ch0000006?line=1'>2</a>\u001b[0m ListaCiudades\u001b[39m.\u001b[39mappend(\u001b[39m'\u001b[39m\u001b[39mOsaka\u001b[39m\u001b[39m'\u001b[39m)\n",
      "\u001b[1;31mNameError\u001b[0m: name 'ListaCiudadesVacia' is not defined"
     ]
    }
   ],
   "source": [
    "ListaCiudadesVacia.append('Mexico City')\n",
    "ListaCiudades.append('Osaka')\n",
    "#punto 7 Da error porque la lista no esta definida"
   ]
  },
  {
   "cell_type": "code",
   "execution_count": 56,
   "metadata": {},
   "outputs": [
    {
     "name": "stdout",
     "output_type": "stream",
     "text": [
      "['New York', 'Tokyo', 'Buenos Aires', 'Dhali', 'Bangkok', 'Los Angeles', 'Seoul']\n"
     ]
    }
   ],
   "source": [
    "ListaCiudades.insert(3, 'Dhali')\n",
    "print(ListaCiudades)\n",
    "#punto 8"
   ]
  },
  {
   "cell_type": "code",
   "execution_count": 57,
   "metadata": {},
   "outputs": [
    {
     "name": "stdout",
     "output_type": "stream",
     "text": [
      "['New York', 'Tokyo', 'Buenos Aires', 'Dhali', 'Bangkok', 'Los Angeles', 'Seoul', 'Sao Paulo', 'Manila']\n"
     ]
    }
   ],
   "source": [
    "ListaCiudades.extend(['Sao Paulo','Manila'])\n",
    "print(ListaCiudades)\n",
    "#punto 9"
   ]
  },
  {
   "cell_type": "code",
   "execution_count": 58,
   "metadata": {},
   "outputs": [
    {
     "name": "stdout",
     "output_type": "stream",
     "text": [
      "3\n"
     ]
    }
   ],
   "source": [
    "ListaCiudades.append('Dhali')\n",
    "print(ListaCiudades.index('Dhali'))\n",
    "#punto 10 Imprimer la posicion del primer string que coincide con la busqueda"
   ]
  },
  {
   "cell_type": "code",
   "execution_count": 59,
   "metadata": {},
   "outputs": [
    {
     "ename": "ValueError",
     "evalue": "'Moscow' is not in list",
     "output_type": "error",
     "traceback": [
      "\u001b[1;31m---------------------------------------------------------------------------\u001b[0m",
      "\u001b[1;31mValueError\u001b[0m                                Traceback (most recent call last)",
      "\u001b[1;32mc:\\Users\\Kevin\\Desktop\\Henry\\Python-Prep\\04 - Estructuras de datos\\Homework clase 4 Kevin.ipynb Cell 11'\u001b[0m in \u001b[0;36m<cell line: 1>\u001b[1;34m()\u001b[0m\n\u001b[1;32m----> <a href='vscode-notebook-cell:/c%3A/Users/Kevin/Desktop/Henry/Python-Prep/04%20-%20Estructuras%20de%20datos/Homework%20clase%204%20Kevin.ipynb#ch0000010?line=0'>1</a>\u001b[0m \u001b[39mprint\u001b[39m(ListaCiudades\u001b[39m.\u001b[39;49mindex(\u001b[39m'\u001b[39;49m\u001b[39mMoscow\u001b[39;49m\u001b[39m'\u001b[39;49m))\n",
      "\u001b[1;31mValueError\u001b[0m: 'Moscow' is not in list"
     ]
    }
   ],
   "source": [
    "print(ListaCiudades.index('Moscow'))\n",
    "#punto 11 Te salta el error not in list"
   ]
  },
  {
   "cell_type": "code",
   "execution_count": 60,
   "metadata": {},
   "outputs": [
    {
     "name": "stdout",
     "output_type": "stream",
     "text": [
      "['New York', 'Tokyo', 'Buenos Aires', 'Bangkok', 'Los Angeles', 'Seoul', 'Sao Paulo', 'Manila', 'Dhali']\n"
     ]
    }
   ],
   "source": [
    "ListaCiudades.remove('Dhali')\n",
    "print(ListaCiudades)\n",
    "#punto 12 Si hay un nombre repetido borra el primero que se encuentra nada mas"
   ]
  },
  {
   "cell_type": "code",
   "execution_count": 61,
   "metadata": {},
   "outputs": [
    {
     "ename": "ValueError",
     "evalue": "list.remove(x): x not in list",
     "output_type": "error",
     "traceback": [
      "\u001b[1;31m---------------------------------------------------------------------------\u001b[0m",
      "\u001b[1;31mValueError\u001b[0m                                Traceback (most recent call last)",
      "\u001b[1;32mc:\\Users\\Kevin\\Desktop\\Henry\\Python-Prep\\04 - Estructuras de datos\\Homework clase 4 Kevin.ipynb Cell 13'\u001b[0m in \u001b[0;36m<cell line: 1>\u001b[1;34m()\u001b[0m\n\u001b[1;32m----> <a href='vscode-notebook-cell:/c%3A/Users/Kevin/Desktop/Henry/Python-Prep/04%20-%20Estructuras%20de%20datos/Homework%20clase%204%20Kevin.ipynb#ch0000012?line=0'>1</a>\u001b[0m ListaCiudades\u001b[39m.\u001b[39;49mremove(\u001b[39m'\u001b[39;49m\u001b[39mBeijing\u001b[39;49m\u001b[39m'\u001b[39;49m)\n",
      "\u001b[1;31mValueError\u001b[0m: list.remove(x): x not in list"
     ]
    }
   ],
   "source": [
    "ListaCiudades.remove('Beijing')\n",
    "#punto 13 Te tira el error not in list"
   ]
  },
  {
   "cell_type": "code",
   "execution_count": 62,
   "metadata": {},
   "outputs": [
    {
     "name": "stdout",
     "output_type": "stream",
     "text": [
      "Dhali\n"
     ]
    }
   ],
   "source": [
    "UltimaCiudad = ListaCiudades.pop()\n",
    "print(UltimaCiudad)\n",
    "#punto 14 el comando pop imprime y borra el ultimo elemento"
   ]
  },
  {
   "cell_type": "code",
   "execution_count": 48,
   "metadata": {},
   "outputs": [
    {
     "name": "stdout",
     "output_type": "stream",
     "text": [
      "['New York', 'Tokyo', 'Buenos Aires', 'Bangkok', 'Los Angeles', 'Seoul', 'New York', 'Tokyo', 'Buenos Aires', 'Bangkok', 'Los Angeles', 'Seoul', 'New York', 'Tokyo', 'Buenos Aires', 'Bangkok', 'Los Angeles', 'Seoul', 'New York', 'Tokyo', 'Buenos Aires', 'Bangkok', 'Los Angeles', 'Seoul']\n"
     ]
    }
   ],
   "source": [
    "print(ListaCiudades * 4)\n",
    "#punto 15"
   ]
  },
  {
   "cell_type": "code",
   "execution_count": 66,
   "metadata": {},
   "outputs": [
    {
     "name": "stdout",
     "output_type": "stream",
     "text": [
      "(1, 2, 3, 4, 5, 6, 7, 8, 9, 10, 11, 12, 13, 14, 15, 16, 17, 18, 19, 20)\n"
     ]
    }
   ],
   "source": [
    "PrimeraTupla = tuple(range(1,21))\n",
    "print(PrimeraTupla)\n",
    "#punto 16"
   ]
  },
  {
   "cell_type": "code",
   "execution_count": 70,
   "metadata": {},
   "outputs": [
    {
     "name": "stdout",
     "output_type": "stream",
     "text": [
      "(11, 12, 13, 14, 15)\n"
     ]
    }
   ],
   "source": [
    "print(PrimeraTupla[10:15])\n",
    "#punto 17"
   ]
  },
  {
   "cell_type": "code",
   "execution_count": 76,
   "metadata": {},
   "outputs": [
    {
     "name": "stdout",
     "output_type": "stream",
     "text": [
      "False\n",
      "True\n"
     ]
    }
   ],
   "source": [
    "print((20, 25) in PrimeraTupla)\n",
    "print(10 in PrimeraTupla and 15 in PrimeraTupla)\n",
    "#prunto 18"
   ]
  },
  {
   "cell_type": "code",
   "execution_count": 81,
   "metadata": {},
   "outputs": [
    {
     "name": "stdout",
     "output_type": "stream",
     "text": [
      "['New York', 'Tokyo', 'Buenos Aires', 'Bangkok', 'Los Angeles', 'Seoul', 'Sao Paulo', 'Manila', 'Paris']\n"
     ]
    }
   ],
   "source": [
    "CiudadDeParis = 'Paris'\n",
    "if CiudadDeParis not in ListaCiudades:\n",
    "    ListaCiudades.append(CiudadDeParis)\n",
    "print(ListaCiudades)\n",
    "#Punto 19"
   ]
  },
  {
   "cell_type": "code",
   "execution_count": 82,
   "metadata": {},
   "outputs": [
    {
     "name": "stdout",
     "output_type": "stream",
     "text": [
      "1\n"
     ]
    }
   ],
   "source": [
    "print(ListaCiudades.count('Buenos Aires'))\n",
    "#punto 20"
   ]
  },
  {
   "cell_type": "code",
   "execution_count": 83,
   "metadata": {},
   "outputs": [
    {
     "name": "stdout",
     "output_type": "stream",
     "text": [
      "<class 'tuple'>\n"
     ]
    }
   ],
   "source": [
    "list(PrimeraTupla)\n",
    "print(type(PrimeraTupla))\n",
    "#punto 21"
   ]
  },
  {
   "cell_type": "code",
   "execution_count": 91,
   "metadata": {},
   "outputs": [
    {
     "name": "stdout",
     "output_type": "stream",
     "text": [
      "variable1: 1 variable2: 2 variable3: 3\n"
     ]
    }
   ],
   "source": [
    "PrimeraTuplaPrimeros3 = []\n",
    "for i in PrimeraTupla[:3]:\n",
    "    PrimeraTuplaPrimeros3.append(i)\n",
    "v1, v2, v3 = PrimeraTuplaPrimeros3\n",
    "print('variable1:', v1, 'variable2:', v2, 'variable3:', v3)\n",
    "#punto 22"
   ]
  },
  {
   "cell_type": "code",
   "execution_count": 100,
   "metadata": {},
   "outputs": [
    {
     "name": "stdout",
     "output_type": "stream",
     "text": [
      "dict_keys(['Ciudad', 'Pais', 'Continente'])\n",
      "['New York', 'Tokyo', 'Buenos Aires', 'Bangkok', 'Los Angeles', 'Seoul', 'Sao Paulo', 'Manila', 'Paris']\n"
     ]
    }
   ],
   "source": [
    "diccionario = {'Ciudad': ListaCiudades, 'Pais': ['Argentina','United States','Japan'], 'Continente': ['Americas','Europe','Asia','Africa']}\n",
    "print(diccionario.keys())\n",
    "print(diccionario['Ciudad'])\n",
    "#punto 23, 24, 25"
   ]
  }
 ],
 "metadata": {
  "interpreter": {
   "hash": "7f316ce05a0c4170ba4484e3efd14dee3226178e34dfd81e786ec8a894f84480"
  },
  "kernelspec": {
   "display_name": "Python 3.10.4 64-bit",
   "language": "python",
   "name": "python3"
  },
  "language_info": {
   "codemirror_mode": {
    "name": "ipython",
    "version": 3
   },
   "file_extension": ".py",
   "mimetype": "text/x-python",
   "name": "python",
   "nbconvert_exporter": "python",
   "pygments_lexer": "ipython3",
   "version": "3.10.4"
  },
  "orig_nbformat": 4
 },
 "nbformat": 4,
 "nbformat_minor": 2
}
