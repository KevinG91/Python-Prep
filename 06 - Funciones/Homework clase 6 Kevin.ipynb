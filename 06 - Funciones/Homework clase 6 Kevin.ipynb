{
 "cells": [
  {
   "cell_type": "code",
   "execution_count": 6,
   "metadata": {},
   "outputs": [
    {
     "name": "stdout",
     "output_type": "stream",
     "text": [
      "True\n",
      "False\n"
     ]
    }
   ],
   "source": [
    "def esprimo (x):\n",
    "    if x > 1:\n",
    "        for num in range(2,x):\n",
    "            if (x % num) == 0:\n",
    "                return False\n",
    "        return True\n",
    "    else:\n",
    "        return False\n",
    "print(esprimo(7))\n",
    "print(esprimo(8))\n",
    "#punto 1"
   ]
  },
  {
   "cell_type": "code",
   "execution_count": 26,
   "metadata": {},
   "outputs": [
    {
     "name": "stdout",
     "output_type": "stream",
     "text": [
      "2\n",
      "3\n",
      "5\n",
      "7\n",
      "11\n",
      "13\n"
     ]
    }
   ],
   "source": [
    "def primolista(lis):\n",
    "    x = 0\n",
    "    while x < len(lis):\n",
    "        if (esprimo(lis[x]) == True):\n",
    "            print(lis[x])\n",
    "        x += 1\n",
    "lista = []\n",
    "for i in range(0, 15):\n",
    "    lista.append(i)\n",
    "primolista(lista)\n",
    "\n"
   ]
  },
  {
   "cell_type": "code",
   "execution_count": 38,
   "metadata": {},
   "outputs": [
    {
     "name": "stdout",
     "output_type": "stream",
     "text": [
      " [(4, 5)]\n",
      "Counter({4: 5, 1: 3, 7: 2, 2: 1, 3: 1, 5: 1, 6: 1, 8: 1, 9: 1})\n"
     ]
    },
    {
     "data": {
      "text/plain": [
       "4"
      ]
     },
     "execution_count": 38,
     "metadata": {},
     "output_type": "execute_result"
    }
   ],
   "source": [
    "from collections import Counter\n",
    "def masrepite(lis):\n",
    "    return max(lis, key=lis.get)\n",
    "\n",
    "def menosrepite(lis):\n",
    "    return min(lis, key=lis.get)\n",
    "\n",
    "def replista(lis):\n",
    "    l = Counter(lis)\n",
    "    l.most_common(1)\n",
    "    print('', l.most_common(1))\n",
    "    return l\n",
    "        \n",
    "listanum1 = [1,1,1,2,3,4,4,4,4,4,5,6,7,7,8,9]\n",
    "listanum2 = [1,1,1,2,3,4,4,4,5,6,7,8,9,]\n",
    "dictlist = replista(listanum1)\n",
    "print(dictlist)"
   ]
  },
  {
   "cell_type": "code",
   "execution_count": 3,
   "metadata": {},
   "outputs": [
    {
     "data": {
      "text/plain": [
       "1"
      ]
     },
     "execution_count": 3,
     "metadata": {},
     "output_type": "execute_result"
    }
   ],
   "source": [
    "def convertirtemp(valor,origen,destino):\n",
    "    if origen == 'celcius':\n",
    "        if destino == 'farenheit':\n",
    "            resultado = (valor*9/5)+32\n",
    "        elif destino == 'kelvin':\n",
    "            resultado = (valor+273.15)\n",
    "        elif destino == 'celcius':\n",
    "            resultado = valor\n",
    "        else:\n",
    "            print('destino no valido')\n",
    "    elif origen == 'farenheit':\n",
    "        if destino == 'celcius':\n",
    "            resultado = ((valor-32)*5)/9\n",
    "        elif destino == 'kelvin':\n",
    "            resultado = (((valor-32)*5)/9)+273.15\n",
    "        elif destino == 'farenheit':\n",
    "            resultado = valor\n",
    "        else:\n",
    "            print('destino no valido')\n",
    "    elif origen == 'kelvin':\n",
    "        if destino == 'celcius':\n",
    "            resultado = valor-273.15\n",
    "        elif destino == 'farenheit':\n",
    "            resultado = ((valor-273.15)*9/5)+32\n",
    "        elif destino == 'kelvin':\n",
    "            resultado = valor\n",
    "        else:\n",
    "            print('destino no valido')\n",
    "    else:\n",
    "        print('el valor de origen no es valido')\n",
    "    return resultado\n",
    "convertirtemp(1,'celcius','celcius')"
   ]
  },
  {
   "cell_type": "code",
   "execution_count": 5,
   "metadata": {},
   "outputs": [
    {
     "name": "stdout",
     "output_type": "stream",
     "text": [
      "1 grado  celcius en  celcius es  1\n",
      "1 grado  celcius en  farenheit es  33.8\n",
      "1 grado  celcius en  kelvin es  274.15\n",
      "1 grado  farenheit en  celcius es  -17.22222222222222\n",
      "1 grado  farenheit en  farenheit es  1\n",
      "1 grado  farenheit en  kelvin es  255.92777777777775\n",
      "1 grado  kelvin en  celcius es  -272.15\n",
      "1 grado  kelvin en  farenheit es  -457.87\n",
      "1 grado  kelvin en  kelvin es  1\n"
     ]
    }
   ],
   "source": [
    "listaunidades = ['celcius','farenheit','kelvin']\n",
    "for i in range(0,3):\n",
    "    for ii in range(0,3):\n",
    "        print('1 grado ',listaunidades[i],'en ',listaunidades[ii],'es ',convertirtemp(1,listaunidades[i],listaunidades[ii]))\n"
   ]
  },
  {
   "cell_type": "code",
   "execution_count": 10,
   "metadata": {},
   "outputs": [
    {
     "data": {
      "text/plain": [
       "720"
      ]
     },
     "execution_count": 10,
     "metadata": {},
     "output_type": "execute_result"
    }
   ],
   "source": [
    "def factorial (x):\n",
    "    resultado = x\n",
    "    if type(x) == int and x >= 0:\n",
    "        if x == 0:\n",
    "            resultado = 1\n",
    "            return resultado\n",
    "        else:\n",
    "            for i in reversed(range(1,x)):\n",
    "                resultado = resultado*i\n",
    "            return resultado\n",
    "factorial(6)"
   ]
  },
  {
   "cell_type": "code",
   "execution_count": 7,
   "metadata": {},
   "outputs": [
    {
     "name": "stdout",
     "output_type": "stream",
     "text": [
      "4\n",
      "3\n",
      "2\n",
      "1\n",
      "0\n"
     ]
    }
   ],
   "source": [
    "for i in reversed(range(0,5)):\n",
    "    print(i)"
   ]
  }
 ],
 "metadata": {
  "interpreter": {
   "hash": "7f316ce05a0c4170ba4484e3efd14dee3226178e34dfd81e786ec8a894f84480"
  },
  "kernelspec": {
   "display_name": "Python 3.10.4 64-bit",
   "language": "python",
   "name": "python3"
  },
  "language_info": {
   "codemirror_mode": {
    "name": "ipython",
    "version": 3
   },
   "file_extension": ".py",
   "mimetype": "text/x-python",
   "name": "python",
   "nbconvert_exporter": "python",
   "pygments_lexer": "ipython3",
   "version": "3.10.4"
  },
  "orig_nbformat": 4
 },
 "nbformat": 4,
 "nbformat_minor": 2
}
