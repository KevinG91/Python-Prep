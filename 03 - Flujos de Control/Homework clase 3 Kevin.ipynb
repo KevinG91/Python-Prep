{
 "cells": [
  {
   "cell_type": "code",
   "execution_count": 1,
   "metadata": {},
   "outputs": [
    {
     "name": "stdout",
     "output_type": "stream",
     "text": [
      "El numero es menor a 0\n"
     ]
    }
   ],
   "source": [
    "v1 = -5\n",
    "if (v1 < 0):\n",
    "    print('El numero es menor a 0')\n",
    "elif (v1 > 0):\n",
    "    print('El numero es mayor a 0')\n",
    "else:\n",
    "    print('El numero es igual a 0')\n",
    "#punto 1"
   ]
  },
  {
   "cell_type": "code",
   "execution_count": 2,
   "metadata": {},
   "outputs": [
    {
     "name": "stdout",
     "output_type": "stream",
     "text": [
      "Los tipos de dato de las variables son diferentes\n"
     ]
    }
   ],
   "source": [
    "v2 = '3'; v3 = 3\n",
    "if type(v2) != type(v3):\n",
    "    print('Los tipos de dato de las variables son diferentes')\n",
    "else:\n",
    "    print('Los tipos de datos de las variables son iguales')\n",
    "#punto 2"
   ]
  },
  {
   "cell_type": "code",
   "execution_count": 27,
   "metadata": {},
   "outputs": [
    {
     "name": "stdout",
     "output_type": "stream",
     "text": [
      "El numero 1  es impar\n",
      "El numero 2  es par\n",
      "El numero 3  es impar\n",
      "El numero 4  es par\n",
      "El numero 5  es impar\n",
      "El numero 6  es par\n",
      "El numero 7  es impar\n",
      "El numero 8  es par\n",
      "El numero 9  es impar\n",
      "El numero 10  es par\n",
      "El numero 11  es impar\n",
      "El numero 12  es par\n",
      "El numero 13  es impar\n",
      "El numero 14  es par\n",
      "El numero 15  es impar\n",
      "El numero 16  es par\n",
      "El numero 17  es impar\n",
      "El numero 18  es par\n",
      "El numero 19  es impar\n",
      "El numero 20  es par\n"
     ]
    }
   ],
   "source": [
    "for z in range(1, 21):\n",
    "    if (z % 2) == 0:\n",
    "        print('El numero', z, ' es par')\n",
    "    else:\n",
    "        print('El numero', z, ' es impar')\n",
    "#punto 3"
   ]
  },
  {
   "cell_type": "code",
   "execution_count": 10,
   "metadata": {},
   "outputs": [
    {
     "name": "stdout",
     "output_type": "stream",
     "text": [
      "0\n",
      "1\n",
      "8\n",
      "27\n",
      "64\n",
      "125\n"
     ]
    }
   ],
   "source": [
    "for z in range(6):\n",
    "    print(z ** 3)\n",
    "#punto 4"
   ]
  },
  {
   "cell_type": "code",
   "execution_count": 11,
   "metadata": {},
   "outputs": [
    {
     "name": "stdout",
     "output_type": "stream",
     "text": [
      "0\n",
      "1\n",
      "0\n",
      "1\n"
     ]
    }
   ],
   "source": [
    "v4 = 2\n",
    "for z in range(v4):\n",
    "    for y in range(v4):\n",
    "        print(y)\n",
    "#punto 5"
   ]
  },
  {
   "cell_type": "code",
   "execution_count": 21,
   "metadata": {},
   "outputs": [
    {
     "name": "stdout",
     "output_type": "stream",
     "text": [
      "3125\n"
     ]
    }
   ],
   "source": [
    "v5= 5\n",
    "contador = 1\n",
    "factorial = v5\n",
    "if (v5 > 0):\n",
    "    while contador != v5:\n",
    "        factorial *= v5\n",
    "        contador += 1\n",
    "    print(factorial)\n",
    "#punto 6\n",
    "        "
   ]
  },
  {
   "cell_type": "code",
   "execution_count": 23,
   "metadata": {},
   "outputs": [
    {
     "name": "stdout",
     "output_type": "stream",
     "text": [
      "a\n",
      "a\n",
      "a\n",
      "a\n",
      "a\n",
      "a\n",
      "a\n",
      "a\n",
      "a\n"
     ]
    }
   ],
   "source": [
    "contador1 = 1\n",
    "while contador1 <= 3:\n",
    "    for z in range(3):\n",
    "        print('a')\n",
    "    contador1 += 1\n",
    "#punto 7"
   ]
  },
  {
   "cell_type": "code",
   "execution_count": 28,
   "metadata": {},
   "outputs": [
    {
     "name": "stdout",
     "output_type": "stream",
     "text": [
      "a\n",
      "a\n",
      "a\n",
      "a\n",
      "a\n",
      "a\n",
      "a\n",
      "a\n",
      "a\n"
     ]
    }
   ],
   "source": [
    "contador2 = 1\n",
    "for z in range(3):\n",
    "    while contador2 <= 3:\n",
    "        print('a')\n",
    "        contador2 += 1\n",
    "    contador2 = 1\n",
    "#punto 8"
   ]
  },
  {
   "cell_type": "code",
   "execution_count": 10,
   "metadata": {},
   "outputs": [
    {
     "name": "stdout",
     "output_type": "stream",
     "text": [
      "3\n",
      "5\n",
      "7\n",
      "11\n",
      "13\n",
      "17\n",
      "19\n",
      "23\n",
      "29\n"
     ]
    }
   ],
   "source": [
    "for z in range(3, 31):\n",
    "    num = z\n",
    "    primo = True\n",
    "    for p in range(1, 10):\n",
    "        if (p == 1) or (p == num):\n",
    "            continue\n",
    "        else:\n",
    "            if (num % p) == 0:\n",
    "                primo = False\n",
    "                break\n",
    "    if (primo == True):\n",
    "        print(num)\n",
    "#punto9 punto10"
   ]
  },
  {
   "cell_type": "code",
   "execution_count": null,
   "metadata": {},
   "outputs": [],
   "source": [
    "#punto 11 hay un boton de timeline abajo a la izquierda que muestra los cambios hechos al codigo"
   ]
  },
  {
   "cell_type": "code",
   "execution_count": null,
   "metadata": {},
   "outputs": [],
   "source": [
    "#punto 12 la optimizacion siempre es la misma, mientras mas datos a checkear mas tarda el codigo"
   ]
  },
  {
   "cell_type": "code",
   "execution_count": 1,
   "metadata": {},
   "outputs": [
    {
     "name": "stdout",
     "output_type": "stream",
     "text": [
      "108\n",
      "120\n",
      "132\n",
      "144\n",
      "156\n",
      "168\n",
      "180\n",
      "192\n",
      "204\n",
      "216\n",
      "228\n",
      "240\n",
      "252\n",
      "264\n",
      "276\n",
      "288\n",
      "300\n"
     ]
    }
   ],
   "source": [
    "v6 = 100\n",
    "while (v6 <= 300):\n",
    "    if (v6 % 12) != 0:\n",
    "        v6 += 1\n",
    "        continue\n",
    "    else:\n",
    "        print(v6)\n",
    "        v6 += 1\n",
    "#punto 13\n",
    "    "
   ]
  },
  {
   "cell_type": "code",
   "execution_count": 15,
   "metadata": {},
   "outputs": [
    {
     "name": "stdout",
     "output_type": "stream",
     "text": [
      "Ingrese un numero para checkear si es primo o ingrese 0 para terminar:\n",
      "El numero 0 no es primo\n",
      "Ingrese un numero para checkear si es primo o ingrese 0 para terminar:\n"
     ]
    }
   ],
   "source": [
    "v7 = 0\n",
    "cont = 100\n",
    "print('Ingrese un numero para checkear si es primo o ingrese 0 para terminar:'); input(v7)\n",
    "while (cont != 0):\n",
    "    if (v7 == 1):\n",
    "        print('El numero 1 no es primo')\n",
    "        print('Ingrese un numero para checkear si es primo o ingrese 0 para terminar:'); input(v7)\n",
    "        continue\n",
    "    primo = True\n",
    "    for p in range(2, 10):\n",
    "        if (v7 % p) == 0:\n",
    "                primo = False\n",
    "                break\n",
    "    if (primo == True):\n",
    "        print('El numero', v7, 'es primo')\n",
    "    else:\n",
    "        print('El numero', v7, 'no es primo')\n",
    "    print('Ingrese un numero para checkear si es primo o ingrese 0 para terminar:'); input(v7)\n",
    "    if (v7 == 0):\n",
    "        break\n",
    "#punto 14"
   ]
  },
  {
   "cell_type": "code",
   "execution_count": 18,
   "metadata": {},
   "outputs": [
    {
     "name": "stdout",
     "output_type": "stream",
     "text": [
      "102\n"
     ]
    }
   ],
   "source": [
    "for z in range(100, 301):\n",
    "    if ((z % 3) == 0) and ((z % 6) == 0):\n",
    "            print(z)\n",
    "            break"
   ]
  }
 ],
 "metadata": {
  "interpreter": {
   "hash": "7f316ce05a0c4170ba4484e3efd14dee3226178e34dfd81e786ec8a894f84480"
  },
  "kernelspec": {
   "display_name": "Python 3.10.4 64-bit",
   "language": "python",
   "name": "python3"
  },
  "language_info": {
   "codemirror_mode": {
    "name": "ipython",
    "version": 3
   },
   "file_extension": ".py",
   "mimetype": "text/x-python",
   "name": "python",
   "nbconvert_exporter": "python",
   "pygments_lexer": "ipython3",
   "version": "3.10.4"
  },
  "orig_nbformat": 4
 },
 "nbformat": 4,
 "nbformat_minor": 2
}
